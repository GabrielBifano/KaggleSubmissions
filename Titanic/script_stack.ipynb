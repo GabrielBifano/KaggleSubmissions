{
 "cells": [
  {
   "cell_type": "markdown",
   "metadata": {},
   "source": [
    "# **Predicting Fatal Victims of the Titanic Sinking**\n",
    "\n",
    "Inspired by the notebook of Ravi Ramakrishnan on kaggle. Available [here](https://www.kaggle.com/code/ravi20076/titanic-eda-model-custompipelines)"
   ]
  },
  {
   "cell_type": "code",
   "execution_count": 182,
   "metadata": {},
   "outputs": [],
   "source": [
    "import numpy as np\n",
    "import pandas as pd\n",
    "import seaborn as sns\n",
    "from termcolor import colored\n",
    "import matplotlib.pyplot as plt"
   ]
  },
  {
   "cell_type": "code",
   "execution_count": 183,
   "metadata": {},
   "outputs": [],
   "source": [
    "from sklearn.ensemble import RandomForestClassifier"
   ]
  },
  {
   "cell_type": "markdown",
   "metadata": {},
   "source": [
    "## Data Understanding"
   ]
  },
  {
   "cell_type": "code",
   "execution_count": 184,
   "metadata": {},
   "outputs": [],
   "source": [
    "raw_train = pd.read_csv('./data/train.csv')\n",
    "raw_test = pd.read_csv('./data/test.csv')"
   ]
  },
  {
   "cell_type": "markdown",
   "metadata": {},
   "source": [
    "### First look at data\n",
    "\n",
    "It's possible to perceive that Name, Sex, Ticket, Cabin, and Embarked are all categorical attributes, and they need to be processed"
   ]
  },
  {
   "cell_type": "code",
   "execution_count": 3,
   "metadata": {},
   "outputs": [
    {
     "data": {
      "text/html": [
       "<div>\n",
       "<style scoped>\n",
       "    .dataframe tbody tr th:only-of-type {\n",
       "        vertical-align: middle;\n",
       "    }\n",
       "\n",
       "    .dataframe tbody tr th {\n",
       "        vertical-align: top;\n",
       "    }\n",
       "\n",
       "    .dataframe thead th {\n",
       "        text-align: right;\n",
       "    }\n",
       "</style>\n",
       "<table border=\"1\" class=\"dataframe\">\n",
       "  <thead>\n",
       "    <tr style=\"text-align: right;\">\n",
       "      <th></th>\n",
       "      <th>PassengerId</th>\n",
       "      <th>Survived</th>\n",
       "      <th>Pclass</th>\n",
       "      <th>Name</th>\n",
       "      <th>Sex</th>\n",
       "      <th>Age</th>\n",
       "      <th>SibSp</th>\n",
       "      <th>Parch</th>\n",
       "      <th>Ticket</th>\n",
       "      <th>Fare</th>\n",
       "      <th>Cabin</th>\n",
       "      <th>Embarked</th>\n",
       "    </tr>\n",
       "  </thead>\n",
       "  <tbody>\n",
       "    <tr>\n",
       "      <th>0</th>\n",
       "      <td>1</td>\n",
       "      <td>0</td>\n",
       "      <td>3</td>\n",
       "      <td>Braund, Mr. Owen Harris</td>\n",
       "      <td>male</td>\n",
       "      <td>22.0</td>\n",
       "      <td>1</td>\n",
       "      <td>0</td>\n",
       "      <td>A/5 21171</td>\n",
       "      <td>7.2500</td>\n",
       "      <td>NaN</td>\n",
       "      <td>S</td>\n",
       "    </tr>\n",
       "    <tr>\n",
       "      <th>1</th>\n",
       "      <td>2</td>\n",
       "      <td>1</td>\n",
       "      <td>1</td>\n",
       "      <td>Cumings, Mrs. John Bradley (Florence Briggs Th...</td>\n",
       "      <td>female</td>\n",
       "      <td>38.0</td>\n",
       "      <td>1</td>\n",
       "      <td>0</td>\n",
       "      <td>PC 17599</td>\n",
       "      <td>71.2833</td>\n",
       "      <td>C85</td>\n",
       "      <td>C</td>\n",
       "    </tr>\n",
       "    <tr>\n",
       "      <th>2</th>\n",
       "      <td>3</td>\n",
       "      <td>1</td>\n",
       "      <td>3</td>\n",
       "      <td>Heikkinen, Miss. Laina</td>\n",
       "      <td>female</td>\n",
       "      <td>26.0</td>\n",
       "      <td>0</td>\n",
       "      <td>0</td>\n",
       "      <td>STON/O2. 3101282</td>\n",
       "      <td>7.9250</td>\n",
       "      <td>NaN</td>\n",
       "      <td>S</td>\n",
       "    </tr>\n",
       "    <tr>\n",
       "      <th>3</th>\n",
       "      <td>4</td>\n",
       "      <td>1</td>\n",
       "      <td>1</td>\n",
       "      <td>Futrelle, Mrs. Jacques Heath (Lily May Peel)</td>\n",
       "      <td>female</td>\n",
       "      <td>35.0</td>\n",
       "      <td>1</td>\n",
       "      <td>0</td>\n",
       "      <td>113803</td>\n",
       "      <td>53.1000</td>\n",
       "      <td>C123</td>\n",
       "      <td>S</td>\n",
       "    </tr>\n",
       "    <tr>\n",
       "      <th>4</th>\n",
       "      <td>5</td>\n",
       "      <td>0</td>\n",
       "      <td>3</td>\n",
       "      <td>Allen, Mr. William Henry</td>\n",
       "      <td>male</td>\n",
       "      <td>35.0</td>\n",
       "      <td>0</td>\n",
       "      <td>0</td>\n",
       "      <td>373450</td>\n",
       "      <td>8.0500</td>\n",
       "      <td>NaN</td>\n",
       "      <td>S</td>\n",
       "    </tr>\n",
       "  </tbody>\n",
       "</table>\n",
       "</div>"
      ],
      "text/plain": [
       "   PassengerId  Survived  Pclass  \\\n",
       "0            1         0       3   \n",
       "1            2         1       1   \n",
       "2            3         1       3   \n",
       "3            4         1       1   \n",
       "4            5         0       3   \n",
       "\n",
       "                                                Name     Sex   Age  SibSp  \\\n",
       "0                            Braund, Mr. Owen Harris    male  22.0      1   \n",
       "1  Cumings, Mrs. John Bradley (Florence Briggs Th...  female  38.0      1   \n",
       "2                             Heikkinen, Miss. Laina  female  26.0      0   \n",
       "3       Futrelle, Mrs. Jacques Heath (Lily May Peel)  female  35.0      1   \n",
       "4                           Allen, Mr. William Henry    male  35.0      0   \n",
       "\n",
       "   Parch            Ticket     Fare Cabin Embarked  \n",
       "0      0         A/5 21171   7.2500   NaN        S  \n",
       "1      0          PC 17599  71.2833   C85        C  \n",
       "2      0  STON/O2. 3101282   7.9250   NaN        S  \n",
       "3      0            113803  53.1000  C123        S  \n",
       "4      0            373450   8.0500   NaN        S  "
      ]
     },
     "execution_count": 3,
     "metadata": {},
     "output_type": "execute_result"
    }
   ],
   "source": [
    "raw_train.head()"
   ]
  },
  {
   "cell_type": "markdown",
   "metadata": {},
   "source": [
    "### Dividing training dataset in X, y frames, and printing information about training dataset\n",
    "\n",
    "The amount of nulls in Cabin, and Age columns is very high. Embarked also has null values"
   ]
  },
  {
   "cell_type": "code",
   "execution_count": 185,
   "metadata": {},
   "outputs": [
    {
     "name": "stdout",
     "output_type": "stream",
     "text": [
      "\u001b[1m\u001b[32mTrain dataset length = 891\u001b[0m\n",
      "\u001b[1m\u001b[34mTest  dataset length = 418\n",
      "\u001b[0m\n",
      "<class 'pandas.core.frame.DataFrame'>\n",
      "RangeIndex: 891 entries, 0 to 890\n",
      "Data columns (total 12 columns):\n",
      " #   Column       Non-Null Count  Dtype  \n",
      "---  ------       --------------  -----  \n",
      " 0   PassengerId  891 non-null    int64  \n",
      " 1   Survived     891 non-null    int64  \n",
      " 2   Pclass       891 non-null    int64  \n",
      " 3   Name         891 non-null    object \n",
      " 4   Sex          891 non-null    object \n",
      " 5   Age          714 non-null    float64\n",
      " 6   SibSp        891 non-null    int64  \n",
      " 7   Parch        891 non-null    int64  \n",
      " 8   Ticket       891 non-null    object \n",
      " 9   Fare         891 non-null    float64\n",
      " 10  Cabin        204 non-null    object \n",
      " 11  Embarked     889 non-null    object \n",
      "dtypes: float64(2), int64(5), object(5)\n",
      "memory usage: 83.7+ KB\n"
     ]
    },
    {
     "data": {
      "text/plain": [
       "None"
      ]
     },
     "metadata": {},
     "output_type": "display_data"
    }
   ],
   "source": [
    "X, y = raw_train.iloc[:, 2:], raw_train['Survived']\n",
    "\n",
    "print(colored(f'Train dataset length = {len(X)}', color='green', attrs=['bold']))\n",
    "print(colored(f'Test  dataset length = {len(raw_test)}\\n', color='blue', attrs=['bold']))\n",
    "display(raw_train.info())"
   ]
  },
  {
   "cell_type": "markdown",
   "metadata": {},
   "source": [
    "###  Visualizing training dataset description\n",
    "\n",
    "Fare and Age have a bigger spread on their values "
   ]
  },
  {
   "cell_type": "code",
   "execution_count": 8,
   "metadata": {},
   "outputs": [
    {
     "name": "stdout",
     "output_type": "stream",
     "text": [
      "\u001b[1m\u001b[32mTraining dataset description\n",
      "\u001b[0m\n"
     ]
    },
    {
     "data": {
      "text/html": [
       "<div>\n",
       "<style scoped>\n",
       "    .dataframe tbody tr th:only-of-type {\n",
       "        vertical-align: middle;\n",
       "    }\n",
       "\n",
       "    .dataframe tbody tr th {\n",
       "        vertical-align: top;\n",
       "    }\n",
       "\n",
       "    .dataframe thead th {\n",
       "        text-align: right;\n",
       "    }\n",
       "</style>\n",
       "<table border=\"1\" class=\"dataframe\">\n",
       "  <thead>\n",
       "    <tr style=\"text-align: right;\">\n",
       "      <th></th>\n",
       "      <th>PassengerId</th>\n",
       "      <th>Survived</th>\n",
       "      <th>Pclass</th>\n",
       "      <th>Age</th>\n",
       "      <th>SibSp</th>\n",
       "      <th>Parch</th>\n",
       "      <th>Fare</th>\n",
       "    </tr>\n",
       "  </thead>\n",
       "  <tbody>\n",
       "    <tr>\n",
       "      <th>count</th>\n",
       "      <td>891.000000</td>\n",
       "      <td>891.000000</td>\n",
       "      <td>891.000000</td>\n",
       "      <td>714.000000</td>\n",
       "      <td>891.000000</td>\n",
       "      <td>891.000000</td>\n",
       "      <td>891.000000</td>\n",
       "    </tr>\n",
       "    <tr>\n",
       "      <th>mean</th>\n",
       "      <td>446.000000</td>\n",
       "      <td>0.383838</td>\n",
       "      <td>2.308642</td>\n",
       "      <td>29.699118</td>\n",
       "      <td>0.523008</td>\n",
       "      <td>0.381594</td>\n",
       "      <td>32.204208</td>\n",
       "    </tr>\n",
       "    <tr>\n",
       "      <th>std</th>\n",
       "      <td>257.353842</td>\n",
       "      <td>0.486592</td>\n",
       "      <td>0.836071</td>\n",
       "      <td>14.526497</td>\n",
       "      <td>1.102743</td>\n",
       "      <td>0.806057</td>\n",
       "      <td>49.693429</td>\n",
       "    </tr>\n",
       "    <tr>\n",
       "      <th>min</th>\n",
       "      <td>1.000000</td>\n",
       "      <td>0.000000</td>\n",
       "      <td>1.000000</td>\n",
       "      <td>0.420000</td>\n",
       "      <td>0.000000</td>\n",
       "      <td>0.000000</td>\n",
       "      <td>0.000000</td>\n",
       "    </tr>\n",
       "    <tr>\n",
       "      <th>25%</th>\n",
       "      <td>223.500000</td>\n",
       "      <td>0.000000</td>\n",
       "      <td>2.000000</td>\n",
       "      <td>20.125000</td>\n",
       "      <td>0.000000</td>\n",
       "      <td>0.000000</td>\n",
       "      <td>7.910400</td>\n",
       "    </tr>\n",
       "    <tr>\n",
       "      <th>50%</th>\n",
       "      <td>446.000000</td>\n",
       "      <td>0.000000</td>\n",
       "      <td>3.000000</td>\n",
       "      <td>28.000000</td>\n",
       "      <td>0.000000</td>\n",
       "      <td>0.000000</td>\n",
       "      <td>14.454200</td>\n",
       "    </tr>\n",
       "    <tr>\n",
       "      <th>75%</th>\n",
       "      <td>668.500000</td>\n",
       "      <td>1.000000</td>\n",
       "      <td>3.000000</td>\n",
       "      <td>38.000000</td>\n",
       "      <td>1.000000</td>\n",
       "      <td>0.000000</td>\n",
       "      <td>31.000000</td>\n",
       "    </tr>\n",
       "    <tr>\n",
       "      <th>max</th>\n",
       "      <td>891.000000</td>\n",
       "      <td>1.000000</td>\n",
       "      <td>3.000000</td>\n",
       "      <td>80.000000</td>\n",
       "      <td>8.000000</td>\n",
       "      <td>6.000000</td>\n",
       "      <td>512.329200</td>\n",
       "    </tr>\n",
       "  </tbody>\n",
       "</table>\n",
       "</div>"
      ],
      "text/plain": [
       "       PassengerId    Survived      Pclass         Age       SibSp  \\\n",
       "count   891.000000  891.000000  891.000000  714.000000  891.000000   \n",
       "mean    446.000000    0.383838    2.308642   29.699118    0.523008   \n",
       "std     257.353842    0.486592    0.836071   14.526497    1.102743   \n",
       "min       1.000000    0.000000    1.000000    0.420000    0.000000   \n",
       "25%     223.500000    0.000000    2.000000   20.125000    0.000000   \n",
       "50%     446.000000    0.000000    3.000000   28.000000    0.000000   \n",
       "75%     668.500000    1.000000    3.000000   38.000000    1.000000   \n",
       "max     891.000000    1.000000    3.000000   80.000000    8.000000   \n",
       "\n",
       "            Parch        Fare  \n",
       "count  891.000000  891.000000  \n",
       "mean     0.381594   32.204208  \n",
       "std      0.806057   49.693429  \n",
       "min      0.000000    0.000000  \n",
       "25%      0.000000    7.910400  \n",
       "50%      0.000000   14.454200  \n",
       "75%      0.000000   31.000000  \n",
       "max      6.000000  512.329200  "
      ]
     },
     "metadata": {},
     "output_type": "display_data"
    }
   ],
   "source": [
    "print(colored(f'Training dataset description\\n', color='green', attrs=['bold']))\n",
    "display(raw_train.describe())"
   ]
  },
  {
   "cell_type": "markdown",
   "metadata": {},
   "source": [
    "### Null values exploration"
   ]
  },
  {
   "cell_type": "code",
   "execution_count": 48,
   "metadata": {},
   "outputs": [
    {
     "name": "stdout",
     "output_type": "stream",
     "text": [
      "\u001b[1m\u001b[31mNumber of NaNs in Cabin, Age and Embarked columns\u001b[0m\n",
      "\u001b[1m\u001b[31mAge: 177, Cabin: 687, Embarked: 2\u001b[0m\n"
     ]
    },
    {
     "data": {
      "image/png": "[encoded data removed]",
      "text/plain": [
       "<Figure size 640x480 with 1 Axes>"
      ]
     },
     "metadata": {},
     "output_type": "display_data"
    }
   ],
   "source": [
    "cabin_nans = raw_train['Cabin'].isna().sum()\n",
    "age_nans   = raw_train['Age'].isna().sum()\n",
    "embarked_nans = raw_train['Embarked'].isna().sum()\n",
    "\n",
    "print(colored(f'Number of NaNs in Cabin, Age and Embarked columns', color='red', attrs=['bold']))\n",
    "print(colored(f'Age: {age_nans}, Cabin: {cabin_nans}, Embarked: {embarked_nans}', color='red', attrs=['bold']))\n",
    "\n",
    "# barplot of cabin_nans and age_nans\n",
    "_ = raw_train.isna().sum()\n",
    "ax = _.plot.bar(color='tab:red')\n",
    "ax.set_ylabel('Number of NaNs')\n",
    "ax.set_yticks(range(0, 900, 50))\n",
    "ax.axhline(y=len(raw_train)/4, color='tab:blue', linestyle='--')\n",
    "ax.set_title('Number of NaNs per Column inside the Training Dataset')\n",
    "plt.show()"
   ]
  },
  {
   "cell_type": "markdown",
   "metadata": {},
   "source": [
    "The nan values are so prevalent, that the entries cannot be simply deleted from the dataset. A different approach is necessary. For that reason, a data enrichment inference will be applied over fare. The fare, is the amount paid by the passenger, and is directly related to Cabin, and Class features."
   ]
  },
  {
   "cell_type": "markdown",
   "metadata": {},
   "source": [
    "### Target exploration"
   ]
  },
  {
   "cell_type": "code",
   "execution_count": 89,
   "metadata": {},
   "outputs": [
    {
     "name": "stdout",
     "output_type": "stream",
     "text": [
      "\u001b[1m\u001b[32mInfluence of Age, and Class, on Survival probability\n",
      "\u001b[0m\n"
     ]
    },
    {
     "data": {
      "text/plain": [
       "Text(0, 0.5, 'Survival Rate')"
      ]
     },
     "execution_count": 89,
     "metadata": {},
     "output_type": "execute_result"
    },
    {
     "data": {
      "image/png": "[encoded data removed]",
      "text/plain": [
       "<Figure size 1500x600 with 3 Axes>"
      ]
     },
     "metadata": {},
     "output_type": "display_data"
    }
   ],
   "source": [
    "# Filter the survived and non-survived passengers\n",
    "\n",
    "fig, ax = plt.subplots(1, 3, figsize=(15, 6))\n",
    "print(colored(f'Influence of Age, and Class, on Survival probability\\n', color='green', attrs=['bold']))\n",
    "\n",
    "_ = raw_train[['Age', 'Survived', 'Pclass']]\n",
    "_ = _[_['Survived'] == 1]\n",
    "\n",
    "sns.histplot(data=raw_train, x='Age', kde=True, color='orange', ax=ax[0], label='All Passengers')\n",
    "sns.histplot(data=_, x='Age', kde=True, color='red', ax=ax[0], label='Survived Passengers')\n",
    "ax[0].legend()\n",
    "sns.violinplot(data=raw_train, x='Age', y='Pclass', palette='blend:orange,red', hue='Pclass', ax=ax[1], orient='h')\n",
    "\n",
    "_ = raw_train.groupby('Pclass')['Survived'].mean()\n",
    "ax[2] = _.plot.bar(color='orange')\n",
    "ax[2].set_ylabel('Survival Rate')"
   ]
  },
  {
   "cell_type": "code",
   "execution_count": 78,
   "metadata": {},
   "outputs": [
    {
     "name": "stdout",
     "output_type": "stream",
     "text": [
      "\u001b[1m\u001b[32mAverage Fare per Class\u001b[0m\n"
     ]
    },
    {
     "data": {
      "text/plain": [
       "Pclass\n",
       "1    84.154687\n",
       "2    20.662183\n",
       "3    13.675550\n",
       "Name: Fare, dtype: float64"
      ]
     },
     "metadata": {},
     "output_type": "display_data"
    },
    {
     "data": {
      "image/png": "[encoded data removed]",
      "text/plain": [
       "<Figure size 1200x600 with 3 Axes>"
      ]
     },
     "metadata": {},
     "output_type": "display_data"
    }
   ],
   "source": [
    "_ = raw_train.drop(['Name', 'Ticket', 'Embarked', 'Cabin', 'Sex', 'PassengerId'], axis=1)._()\n",
    "fig, ax = plt.subplots(1, 2, figsize=(12, 6))\n",
    "cmap = sns.diverging_palette(230, 20, as_cmap=True)\n",
    "sns.heatmap(_, cmap=cmap, annot=True, ax=ax[0])\n",
    "\n",
    "sns.boxplot(x = raw_train['Pclass'], y= raw_train['Fare'], ax=ax[1], log_scale=True, width=0.3)\n",
    "fare_avg_pclass = raw_train.groupby('Pclass')['Fare'].mean()\n",
    "print(colored(f'Average Fare per Class', color='green', attrs=['bold']))\n",
    "display(fare_avg_pclass)\n",
    "ax[1].axhline(y=fare_avg_pclass[1], color='red')\n",
    "ax[1].axhline(y=fare_avg_pclass[2], color='red')\n",
    "ax[1].axhline(y=fare_avg_pclass[3], color='red')\n",
    "\n",
    "plt.show()"
   ]
  },
  {
   "cell_type": "markdown",
   "metadata": {},
   "source": [
    "### Age Inference Table by Fare and Class"
   ]
  },
  {
   "cell_type": "code",
   "execution_count": 186,
   "metadata": {},
   "outputs": [
    {
     "data": {
      "text/html": [
       "<style type=\"text/css\">\n",
       "</style>\n",
       "<table id=\"T_432d3\">\n",
       "  <thead>\n",
       "    <tr>\n",
       "      <th class=\"blank\" >&nbsp;</th>\n",
       "      <th class=\"blank level0\" >&nbsp;</th>\n",
       "      <th id=\"T_432d3_level0_col0\" class=\"col_heading level0 col0\" colspan=\"3\">Age</th>\n",
       "      <th id=\"T_432d3_level0_col3\" class=\"col_heading level0 col3\" >Survived</th>\n",
       "      <th id=\"T_432d3_level0_col4\" class=\"col_heading level0 col4\" >PassengerId</th>\n",
       "    </tr>\n",
       "    <tr>\n",
       "      <th class=\"blank\" >&nbsp;</th>\n",
       "      <th class=\"blank level1\" >&nbsp;</th>\n",
       "      <th id=\"T_432d3_level1_col0\" class=\"col_heading level1 col0\" >median</th>\n",
       "      <th id=\"T_432d3_level1_col1\" class=\"col_heading level1 col1\" >std</th>\n",
       "      <th id=\"T_432d3_level1_col2\" class=\"col_heading level1 col2\" >mean</th>\n",
       "      <th id=\"T_432d3_level1_col3\" class=\"col_heading level1 col3\" >sum</th>\n",
       "      <th id=\"T_432d3_level1_col4\" class=\"col_heading level1 col4\" >size</th>\n",
       "    </tr>\n",
       "    <tr>\n",
       "      <th class=\"index_name level0\" >Category</th>\n",
       "      <th class=\"index_name level1\" >Pclass</th>\n",
       "      <th class=\"blank col0\" >&nbsp;</th>\n",
       "      <th class=\"blank col1\" >&nbsp;</th>\n",
       "      <th class=\"blank col2\" >&nbsp;</th>\n",
       "      <th class=\"blank col3\" >&nbsp;</th>\n",
       "      <th class=\"blank col4\" >&nbsp;</th>\n",
       "    </tr>\n",
       "  </thead>\n",
       "  <tbody>\n",
       "    <tr>\n",
       "      <th id=\"T_432d3_level0_row0\" class=\"row_heading level0 row0\" >A</th>\n",
       "      <th id=\"T_432d3_level1_row0\" class=\"row_heading level1 row0\" >1</th>\n",
       "      <td id=\"T_432d3_row0_col0\" class=\"data row0 col0\" >44</td>\n",
       "      <td id=\"T_432d3_row0_col1\" class=\"data row0 col1\" >20</td>\n",
       "      <td id=\"T_432d3_row0_col2\" class=\"data row0 col2\" >45</td>\n",
       "      <td id=\"T_432d3_row0_col3\" class=\"data row0 col3\" >7</td>\n",
       "      <td id=\"T_432d3_row0_col4\" class=\"data row0 col4\" >15</td>\n",
       "    </tr>\n",
       "    <tr>\n",
       "      <th id=\"T_432d3_level0_row1\" class=\"row_heading level0 row1\" >B</th>\n",
       "      <th id=\"T_432d3_level1_row1\" class=\"row_heading level1 row1\" >1</th>\n",
       "      <td id=\"T_432d3_row1_col0\" class=\"data row1 col0\" >33</td>\n",
       "      <td id=\"T_432d3_row1_col1\" class=\"data row1 col1\" >15</td>\n",
       "      <td id=\"T_432d3_row1_col2\" class=\"data row1 col2\" >35</td>\n",
       "      <td id=\"T_432d3_row1_col3\" class=\"data row1 col3\" >35</td>\n",
       "      <td id=\"T_432d3_row1_col4\" class=\"data row1 col4\" >47</td>\n",
       "    </tr>\n",
       "    <tr>\n",
       "      <th id=\"T_432d3_level0_row2\" class=\"row_heading level0 row2\" >C</th>\n",
       "      <th id=\"T_432d3_level1_row2\" class=\"row_heading level1 row2\" >1</th>\n",
       "      <td id=\"T_432d3_row2_col0\" class=\"data row2 col0\" >36</td>\n",
       "      <td id=\"T_432d3_row2_col1\" class=\"data row2 col1\" >14</td>\n",
       "      <td id=\"T_432d3_row2_col2\" class=\"data row2 col2\" >36</td>\n",
       "      <td id=\"T_432d3_row2_col3\" class=\"data row2 col3\" >35</td>\n",
       "      <td id=\"T_432d3_row2_col4\" class=\"data row2 col4\" >59</td>\n",
       "    </tr>\n",
       "    <tr>\n",
       "      <th id=\"T_432d3_level0_row3\" class=\"row_heading level0 row3\" rowspan=\"2\">D</th>\n",
       "      <th id=\"T_432d3_level1_row3\" class=\"row_heading level1 row3\" >1</th>\n",
       "      <td id=\"T_432d3_row3_col0\" class=\"data row3 col0\" >47</td>\n",
       "      <td id=\"T_432d3_row3_col1\" class=\"data row3 col1\" >15</td>\n",
       "      <td id=\"T_432d3_row3_col2\" class=\"data row3 col2\" >40</td>\n",
       "      <td id=\"T_432d3_row3_col3\" class=\"data row3 col3\" >22</td>\n",
       "      <td id=\"T_432d3_row3_col4\" class=\"data row3 col4\" >29</td>\n",
       "    </tr>\n",
       "    <tr>\n",
       "      <th id=\"T_432d3_level1_row4\" class=\"row_heading level1 row4\" >2</th>\n",
       "      <td id=\"T_432d3_row4_col0\" class=\"data row4 col0\" >35</td>\n",
       "      <td id=\"T_432d3_row4_col1\" class=\"data row4 col1\" >6</td>\n",
       "      <td id=\"T_432d3_row4_col2\" class=\"data row4 col2\" >32</td>\n",
       "      <td id=\"T_432d3_row4_col3\" class=\"data row4 col3\" >3</td>\n",
       "      <td id=\"T_432d3_row4_col4\" class=\"data row4 col4\" >4</td>\n",
       "    </tr>\n",
       "    <tr>\n",
       "      <th id=\"T_432d3_level0_row5\" class=\"row_heading level0 row5\" rowspan=\"3\">E</th>\n",
       "      <th id=\"T_432d3_level1_row5\" class=\"row_heading level1 row5\" >1</th>\n",
       "      <td id=\"T_432d3_row5_col0\" class=\"data row5 col0\" >40</td>\n",
       "      <td id=\"T_432d3_row5_col1\" class=\"data row5 col1\" >11</td>\n",
       "      <td id=\"T_432d3_row5_col2\" class=\"data row5 col2\" >40</td>\n",
       "      <td id=\"T_432d3_row5_col3\" class=\"data row5 col3\" >18</td>\n",
       "      <td id=\"T_432d3_row5_col4\" class=\"data row5 col4\" >25</td>\n",
       "    </tr>\n",
       "    <tr>\n",
       "      <th id=\"T_432d3_level1_row6\" class=\"row_heading level1 row6\" >2</th>\n",
       "      <td id=\"T_432d3_row6_col0\" class=\"data row6 col0\" >32</td>\n",
       "      <td id=\"T_432d3_row6_col1\" class=\"data row6 col1\" >16</td>\n",
       "      <td id=\"T_432d3_row6_col2\" class=\"data row6 col2\" >39</td>\n",
       "      <td id=\"T_432d3_row6_col3\" class=\"data row6 col3\" >3</td>\n",
       "      <td id=\"T_432d3_row6_col4\" class=\"data row6 col4\" >4</td>\n",
       "    </tr>\n",
       "    <tr>\n",
       "      <th id=\"T_432d3_level1_row7\" class=\"row_heading level1 row7\" >3</th>\n",
       "      <td id=\"T_432d3_row7_col0\" class=\"data row7 col0\" >27</td>\n",
       "      <td id=\"T_432d3_row7_col1\" class=\"data row7 col1\" >14</td>\n",
       "      <td id=\"T_432d3_row7_col2\" class=\"data row7 col2\" >22</td>\n",
       "      <td id=\"T_432d3_row7_col3\" class=\"data row7 col3\" >3</td>\n",
       "      <td id=\"T_432d3_row7_col4\" class=\"data row7 col4\" >3</td>\n",
       "    </tr>\n",
       "    <tr>\n",
       "      <th id=\"T_432d3_level0_row8\" class=\"row_heading level0 row8\" rowspan=\"2\">F</th>\n",
       "      <th id=\"T_432d3_level1_row8\" class=\"row_heading level1 row8\" >2</th>\n",
       "      <td id=\"T_432d3_row8_col0\" class=\"data row8 col0\" >14</td>\n",
       "      <td id=\"T_432d3_row8_col1\" class=\"data row8 col1\" >16</td>\n",
       "      <td id=\"T_432d3_row8_col2\" class=\"data row8 col2\" >17</td>\n",
       "      <td id=\"T_432d3_row8_col3\" class=\"data row8 col3\" >7</td>\n",
       "      <td id=\"T_432d3_row8_col4\" class=\"data row8 col4\" >8</td>\n",
       "    </tr>\n",
       "    <tr>\n",
       "      <th id=\"T_432d3_level1_row9\" class=\"row_heading level1 row9\" >3</th>\n",
       "      <td id=\"T_432d3_row9_col0\" class=\"data row9 col0\" >25</td>\n",
       "      <td id=\"T_432d3_row9_col1\" class=\"data row9 col1\" >12</td>\n",
       "      <td id=\"T_432d3_row9_col2\" class=\"data row9 col2\" >29</td>\n",
       "      <td id=\"T_432d3_row9_col3\" class=\"data row9 col3\" >1</td>\n",
       "      <td id=\"T_432d3_row9_col4\" class=\"data row9 col4\" >5</td>\n",
       "    </tr>\n",
       "    <tr>\n",
       "      <th id=\"T_432d3_level0_row10\" class=\"row_heading level0 row10\" >G</th>\n",
       "      <th id=\"T_432d3_level1_row10\" class=\"row_heading level1 row10\" >3</th>\n",
       "      <td id=\"T_432d3_row10_col0\" class=\"data row10 col0\" >14</td>\n",
       "      <td id=\"T_432d3_row10_col1\" class=\"data row10 col1\" >14</td>\n",
       "      <td id=\"T_432d3_row10_col2\" class=\"data row10 col2\" >15</td>\n",
       "      <td id=\"T_432d3_row10_col3\" class=\"data row10 col3\" >2</td>\n",
       "      <td id=\"T_432d3_row10_col4\" class=\"data row10 col4\" >4</td>\n",
       "    </tr>\n",
       "    <tr>\n",
       "      <th id=\"T_432d3_level0_row11\" class=\"row_heading level0 row11\" >T</th>\n",
       "      <th id=\"T_432d3_level1_row11\" class=\"row_heading level1 row11\" >1</th>\n",
       "      <td id=\"T_432d3_row11_col0\" class=\"data row11 col0\" >45</td>\n",
       "      <td id=\"T_432d3_row11_col1\" class=\"data row11 col1\" >nan</td>\n",
       "      <td id=\"T_432d3_row11_col2\" class=\"data row11 col2\" >45</td>\n",
       "      <td id=\"T_432d3_row11_col3\" class=\"data row11 col3\" >0</td>\n",
       "      <td id=\"T_432d3_row11_col4\" class=\"data row11 col4\" >1</td>\n",
       "    </tr>\n",
       "  </tbody>\n",
       "</table>\n"
      ],
      "text/plain": [
       "<pandas.io.formats.style.Styler at 0x7faf0164dd10>"
      ]
     },
     "metadata": {},
     "output_type": "display_data"
    },
    {
     "data": {
      "text/html": [
       "<style type=\"text/css\">\n",
       "</style>\n",
       "<table id=\"T_6c01d\">\n",
       "  <thead>\n",
       "    <tr>\n",
       "      <th class=\"blank level0\" >&nbsp;</th>\n",
       "      <th id=\"T_6c01d_level0_col0\" class=\"col_heading level0 col0\" >Age</th>\n",
       "    </tr>\n",
       "    <tr>\n",
       "      <th class=\"index_name level0\" >Pclass</th>\n",
       "      <th class=\"blank col0\" >&nbsp;</th>\n",
       "    </tr>\n",
       "  </thead>\n",
       "  <tbody>\n",
       "    <tr>\n",
       "      <th id=\"T_6c01d_level0_row0\" class=\"row_heading level0 row0\" >1</th>\n",
       "      <td id=\"T_6c01d_row0_col0\" class=\"data row0 col0\" >37</td>\n",
       "    </tr>\n",
       "    <tr>\n",
       "      <th id=\"T_6c01d_level0_row1\" class=\"row_heading level0 row1\" >2</th>\n",
       "      <td id=\"T_6c01d_row1_col0\" class=\"data row1 col0\" >29</td>\n",
       "    </tr>\n",
       "    <tr>\n",
       "      <th id=\"T_6c01d_level0_row2\" class=\"row_heading level0 row2\" >3</th>\n",
       "      <td id=\"T_6c01d_row2_col0\" class=\"data row2 col0\" >24</td>\n",
       "    </tr>\n",
       "  </tbody>\n",
       "</table>\n"
      ],
      "text/plain": [
       "<pandas.io.formats.style.Styler at 0x7faeff04dd10>"
      ]
     },
     "metadata": {},
     "output_type": "display_data"
    }
   ],
   "source": [
    "table_age_pclass = raw_train.assign(Category = raw_train.Cabin.str[0], dropna=False)\\\n",
    "    .groupby(['Category', 'Pclass'])\\\n",
    "    .agg({\n",
    "        'Age': ['median', 'std', 'mean'],\n",
    "        'Survived': ['sum'],\n",
    "        'PassengerId': ['size'],\n",
    "    })\n",
    "\n",
    "display(table_age_pclass.style.format('{:.0f}'))\n",
    "\n",
    "table_median_age = raw_train.groupby(['Pclass']).agg({'Age': 'median'})\n",
    "display(table_median_age.style.format('{:.0f}'))"
   ]
  },
  {
   "cell_type": "markdown",
   "metadata": {},
   "source": [
    "### Cabin Category Inference Table by Fare and Class"
   ]
  },
  {
   "cell_type": "code",
   "execution_count": 249,
   "metadata": {},
   "outputs": [
    {
     "data": {
      "text/html": [
       "<style type=\"text/css\">\n",
       "</style>\n",
       "<table id=\"T_e2b09\">\n",
       "  <thead>\n",
       "    <tr>\n",
       "      <th class=\"blank\" >&nbsp;</th>\n",
       "      <th class=\"blank level0\" >&nbsp;</th>\n",
       "      <th id=\"T_e2b09_level0_col0\" class=\"col_heading level0 col0\" colspan=\"3\">Fare</th>\n",
       "      <th id=\"T_e2b09_level0_col3\" class=\"col_heading level0 col3\" >Survived</th>\n",
       "      <th id=\"T_e2b09_level0_col4\" class=\"col_heading level0 col4\" >PassengerId</th>\n",
       "      <th id=\"T_e2b09_level0_col5\" class=\"col_heading level0 col5\" >Age</th>\n",
       "    </tr>\n",
       "    <tr>\n",
       "      <th class=\"blank\" >&nbsp;</th>\n",
       "      <th class=\"blank level1\" >&nbsp;</th>\n",
       "      <th id=\"T_e2b09_level1_col0\" class=\"col_heading level1 col0\" >min</th>\n",
       "      <th id=\"T_e2b09_level1_col1\" class=\"col_heading level1 col1\" >max</th>\n",
       "      <th id=\"T_e2b09_level1_col2\" class=\"col_heading level1 col2\" >mean</th>\n",
       "      <th id=\"T_e2b09_level1_col3\" class=\"col_heading level1 col3\" >sum</th>\n",
       "      <th id=\"T_e2b09_level1_col4\" class=\"col_heading level1 col4\" >size</th>\n",
       "      <th id=\"T_e2b09_level1_col5\" class=\"col_heading level1 col5\" >mean</th>\n",
       "    </tr>\n",
       "    <tr>\n",
       "      <th class=\"index_name level0\" >Category</th>\n",
       "      <th class=\"index_name level1\" >Pclass</th>\n",
       "      <th class=\"blank col0\" >&nbsp;</th>\n",
       "      <th class=\"blank col1\" >&nbsp;</th>\n",
       "      <th class=\"blank col2\" >&nbsp;</th>\n",
       "      <th class=\"blank col3\" >&nbsp;</th>\n",
       "      <th class=\"blank col4\" >&nbsp;</th>\n",
       "      <th class=\"blank col5\" >&nbsp;</th>\n",
       "    </tr>\n",
       "  </thead>\n",
       "  <tbody>\n",
       "    <tr>\n",
       "      <th id=\"T_e2b09_level0_row0\" class=\"row_heading level0 row0\" >A</th>\n",
       "      <th id=\"T_e2b09_level1_row0\" class=\"row_heading level1 row0\" >1</th>\n",
       "      <td id=\"T_e2b09_row0_col0\" class=\"data row0 col0\" >0</td>\n",
       "      <td id=\"T_e2b09_row0_col1\" class=\"data row0 col1\" >82</td>\n",
       "      <td id=\"T_e2b09_row0_col2\" class=\"data row0 col2\" >40</td>\n",
       "      <td id=\"T_e2b09_row0_col3\" class=\"data row0 col3\" >7</td>\n",
       "      <td id=\"T_e2b09_row0_col4\" class=\"data row0 col4\" >15</td>\n",
       "      <td id=\"T_e2b09_row0_col5\" class=\"data row0 col5\" >45</td>\n",
       "    </tr>\n",
       "    <tr>\n",
       "      <th id=\"T_e2b09_level0_row1\" class=\"row_heading level0 row1\" >B</th>\n",
       "      <th id=\"T_e2b09_level1_row1\" class=\"row_heading level1 row1\" >1</th>\n",
       "      <td id=\"T_e2b09_row1_col0\" class=\"data row1 col0\" >0</td>\n",
       "      <td id=\"T_e2b09_row1_col1\" class=\"data row1 col1\" >512</td>\n",
       "      <td id=\"T_e2b09_row1_col2\" class=\"data row1 col2\" >114</td>\n",
       "      <td id=\"T_e2b09_row1_col3\" class=\"data row1 col3\" >35</td>\n",
       "      <td id=\"T_e2b09_row1_col4\" class=\"data row1 col4\" >47</td>\n",
       "      <td id=\"T_e2b09_row1_col5\" class=\"data row1 col5\" >35</td>\n",
       "    </tr>\n",
       "    <tr>\n",
       "      <th id=\"T_e2b09_level0_row2\" class=\"row_heading level0 row2\" >C</th>\n",
       "      <th id=\"T_e2b09_level1_row2\" class=\"row_heading level1 row2\" >1</th>\n",
       "      <td id=\"T_e2b09_row2_col0\" class=\"data row2 col0\" >27</td>\n",
       "      <td id=\"T_e2b09_row2_col1\" class=\"data row2 col1\" >263</td>\n",
       "      <td id=\"T_e2b09_row2_col2\" class=\"data row2 col2\" >100</td>\n",
       "      <td id=\"T_e2b09_row2_col3\" class=\"data row2 col3\" >35</td>\n",
       "      <td id=\"T_e2b09_row2_col4\" class=\"data row2 col4\" >59</td>\n",
       "      <td id=\"T_e2b09_row2_col5\" class=\"data row2 col5\" >36</td>\n",
       "    </tr>\n",
       "    <tr>\n",
       "      <th id=\"T_e2b09_level0_row3\" class=\"row_heading level0 row3\" rowspan=\"2\">D</th>\n",
       "      <th id=\"T_e2b09_level1_row3\" class=\"row_heading level1 row3\" >1</th>\n",
       "      <td id=\"T_e2b09_row3_col0\" class=\"data row3 col0\" >26</td>\n",
       "      <td id=\"T_e2b09_row3_col1\" class=\"data row3 col1\" >113</td>\n",
       "      <td id=\"T_e2b09_row3_col2\" class=\"data row3 col2\" >63</td>\n",
       "      <td id=\"T_e2b09_row3_col3\" class=\"data row3 col3\" >22</td>\n",
       "      <td id=\"T_e2b09_row3_col4\" class=\"data row3 col4\" >29</td>\n",
       "      <td id=\"T_e2b09_row3_col5\" class=\"data row3 col5\" >40</td>\n",
       "    </tr>\n",
       "    <tr>\n",
       "      <th id=\"T_e2b09_level1_row4\" class=\"row_heading level1 row4\" >2</th>\n",
       "      <td id=\"T_e2b09_row4_col0\" class=\"data row4 col0\" >13</td>\n",
       "      <td id=\"T_e2b09_row4_col1\" class=\"data row4 col1\" >14</td>\n",
       "      <td id=\"T_e2b09_row4_col2\" class=\"data row4 col2\" >13</td>\n",
       "      <td id=\"T_e2b09_row4_col3\" class=\"data row4 col3\" >3</td>\n",
       "      <td id=\"T_e2b09_row4_col4\" class=\"data row4 col4\" >4</td>\n",
       "      <td id=\"T_e2b09_row4_col5\" class=\"data row4 col5\" >32</td>\n",
       "    </tr>\n",
       "    <tr>\n",
       "      <th id=\"T_e2b09_level0_row5\" class=\"row_heading level0 row5\" rowspan=\"3\">E</th>\n",
       "      <th id=\"T_e2b09_level1_row5\" class=\"row_heading level1 row5\" >1</th>\n",
       "      <td id=\"T_e2b09_row5_col0\" class=\"data row5 col0\" >26</td>\n",
       "      <td id=\"T_e2b09_row5_col1\" class=\"data row5 col1\" >134</td>\n",
       "      <td id=\"T_e2b09_row5_col2\" class=\"data row5 col2\" >56</td>\n",
       "      <td id=\"T_e2b09_row5_col3\" class=\"data row5 col3\" >18</td>\n",
       "      <td id=\"T_e2b09_row5_col4\" class=\"data row5 col4\" >25</td>\n",
       "      <td id=\"T_e2b09_row5_col5\" class=\"data row5 col5\" >40</td>\n",
       "    </tr>\n",
       "    <tr>\n",
       "      <th id=\"T_e2b09_level1_row6\" class=\"row_heading level1 row6\" >2</th>\n",
       "      <td id=\"T_e2b09_row6_col0\" class=\"data row6 col0\" >10</td>\n",
       "      <td id=\"T_e2b09_row6_col1\" class=\"data row6 col1\" >13</td>\n",
       "      <td id=\"T_e2b09_row6_col2\" class=\"data row6 col2\" >12</td>\n",
       "      <td id=\"T_e2b09_row6_col3\" class=\"data row6 col3\" >3</td>\n",
       "      <td id=\"T_e2b09_row6_col4\" class=\"data row6 col4\" >4</td>\n",
       "      <td id=\"T_e2b09_row6_col5\" class=\"data row6 col5\" >39</td>\n",
       "    </tr>\n",
       "    <tr>\n",
       "      <th id=\"T_e2b09_level1_row7\" class=\"row_heading level1 row7\" >3</th>\n",
       "      <td id=\"T_e2b09_row7_col0\" class=\"data row7 col0\" >8</td>\n",
       "      <td id=\"T_e2b09_row7_col1\" class=\"data row7 col1\" >12</td>\n",
       "      <td id=\"T_e2b09_row7_col2\" class=\"data row7 col2\" >11</td>\n",
       "      <td id=\"T_e2b09_row7_col3\" class=\"data row7 col3\" >3</td>\n",
       "      <td id=\"T_e2b09_row7_col4\" class=\"data row7 col4\" >3</td>\n",
       "      <td id=\"T_e2b09_row7_col5\" class=\"data row7 col5\" >22</td>\n",
       "    </tr>\n",
       "    <tr>\n",
       "      <th id=\"T_e2b09_level0_row8\" class=\"row_heading level0 row8\" rowspan=\"2\">F</th>\n",
       "      <th id=\"T_e2b09_level1_row8\" class=\"row_heading level1 row8\" >2</th>\n",
       "      <td id=\"T_e2b09_row8_col0\" class=\"data row8 col0\" >10</td>\n",
       "      <td id=\"T_e2b09_row8_col1\" class=\"data row8 col1\" >39</td>\n",
       "      <td id=\"T_e2b09_row8_col2\" class=\"data row8 col2\" >24</td>\n",
       "      <td id=\"T_e2b09_row8_col3\" class=\"data row8 col3\" >7</td>\n",
       "      <td id=\"T_e2b09_row8_col4\" class=\"data row8 col4\" >8</td>\n",
       "      <td id=\"T_e2b09_row8_col5\" class=\"data row8 col5\" >17</td>\n",
       "    </tr>\n",
       "    <tr>\n",
       "      <th id=\"T_e2b09_level1_row9\" class=\"row_heading level1 row9\" >3</th>\n",
       "      <td id=\"T_e2b09_row9_col0\" class=\"data row9 col0\" >8</td>\n",
       "      <td id=\"T_e2b09_row9_col1\" class=\"data row9 col1\" >22</td>\n",
       "      <td id=\"T_e2b09_row9_col2\" class=\"data row9 col2\" >11</td>\n",
       "      <td id=\"T_e2b09_row9_col3\" class=\"data row9 col3\" >1</td>\n",
       "      <td id=\"T_e2b09_row9_col4\" class=\"data row9 col4\" >5</td>\n",
       "      <td id=\"T_e2b09_row9_col5\" class=\"data row9 col5\" >29</td>\n",
       "    </tr>\n",
       "    <tr>\n",
       "      <th id=\"T_e2b09_level0_row10\" class=\"row_heading level0 row10\" >G</th>\n",
       "      <th id=\"T_e2b09_level1_row10\" class=\"row_heading level1 row10\" >3</th>\n",
       "      <td id=\"T_e2b09_row10_col0\" class=\"data row10 col0\" >10</td>\n",
       "      <td id=\"T_e2b09_row10_col1\" class=\"data row10 col1\" >17</td>\n",
       "      <td id=\"T_e2b09_row10_col2\" class=\"data row10 col2\" >14</td>\n",
       "      <td id=\"T_e2b09_row10_col3\" class=\"data row10 col3\" >2</td>\n",
       "      <td id=\"T_e2b09_row10_col4\" class=\"data row10 col4\" >4</td>\n",
       "      <td id=\"T_e2b09_row10_col5\" class=\"data row10 col5\" >15</td>\n",
       "    </tr>\n",
       "    <tr>\n",
       "      <th id=\"T_e2b09_level0_row11\" class=\"row_heading level0 row11\" >T</th>\n",
       "      <th id=\"T_e2b09_level1_row11\" class=\"row_heading level1 row11\" >1</th>\n",
       "      <td id=\"T_e2b09_row11_col0\" class=\"data row11 col0\" >36</td>\n",
       "      <td id=\"T_e2b09_row11_col1\" class=\"data row11 col1\" >36</td>\n",
       "      <td id=\"T_e2b09_row11_col2\" class=\"data row11 col2\" >36</td>\n",
       "      <td id=\"T_e2b09_row11_col3\" class=\"data row11 col3\" >0</td>\n",
       "      <td id=\"T_e2b09_row11_col4\" class=\"data row11 col4\" >1</td>\n",
       "      <td id=\"T_e2b09_row11_col5\" class=\"data row11 col5\" >45</td>\n",
       "    </tr>\n",
       "  </tbody>\n",
       "</table>\n"
      ],
      "text/plain": [
       "<pandas.io.formats.style.Styler at 0x7faf01dbedd0>"
      ]
     },
     "metadata": {},
     "output_type": "display_data"
    }
   ],
   "source": [
    "table_cat_pclass = raw_train.assign(Category = raw_train.Cabin.str[0], dropna=False)\\\n",
    "     .groupby(['Category', 'Pclass'])\\\n",
    "     .agg({\n",
    "          'Fare': ['min', 'max', 'mean'],\n",
    "          'Survived': ['sum'],\n",
    "          'PassengerId': ['size'],\n",
    "          'Age': ['mean'],\n",
    "     })\n",
    "\n",
    "display(table_cat_pclass.style.format('{:,.0f}'))"
   ]
  },
  {
   "cell_type": "code",
   "execution_count": 189,
   "metadata": {},
   "outputs": [
    {
     "name": "stdout",
     "output_type": "stream",
     "text": [
      "{1: [(39.623886666666664, 'A'), (113.50576382978724, 'B'), (100.1513406779661, 'C'), (63.32428620689655, 'D'), (55.740168000000004, 'E'), (35.5, 'T')], 2: [(13.166675, 'D'), (11.5875, 'E'), (23.75, 'F')], 3: [(11.0, 'E'), (10.61166, 'F'), (13.58125, 'G')]}\n"
     ]
    }
   ],
   "source": [
    "# retrieve every mean fare at (X, value), where 'X' is any category and 'value' is the class\n",
    "def match_class(d, value):\n",
    "    return [(v, k[0]) for k, v in d.items() if k[1] == value]\n",
    "\n",
    "# return a dict with the mean fare per class for every category\n",
    "def fill_all_matches(d, r=range(1, 4)):\n",
    "    return { i: match_class(d, i) for i in r }\n",
    "\n",
    "# Map every class to a list of tuples (category, mean fare)\n",
    "dict_cat_class = fill_all_matches( table_cat_pclass['Fare']['mean'].to_dict() )\n",
    "print(dict_cat_class)"
   ]
  },
  {
   "cell_type": "markdown",
   "metadata": {},
   "source": [
    "### Inference of Cabin Numeration by Fare"
   ]
  },
  {
   "cell_type": "code",
   "execution_count": 242,
   "metadata": {},
   "outputs": [
    {
     "data": {
      "text/plain": [
       "Numeration\n",
       "2.0       42.240000\n",
       "3.0      211.337500\n",
       "4.0       35.240267\n",
       "5.0      152.443067\n",
       "6.0       19.970833\n",
       "            ...    \n",
       "124.0     27.525000\n",
       "125.0    153.462500\n",
       "126.0     52.000000\n",
       "128.0     35.000000\n",
       "148.0     30.000000\n",
       "Name: Fare, Length: 92, dtype: float64"
      ]
     },
     "metadata": {},
     "output_type": "display_data"
    },
    {
     "data": {
      "image/png": "[encoded data removed]",
      "text/plain": [
       "<Figure size 1500x500 with 3 Axes>"
      ]
     },
     "metadata": {},
     "output_type": "display_data"
    }
   ],
   "source": [
    "_y = raw_train['Fare']\n",
    "_x = raw_train.assign(Numeration = raw_train['Cabin'].str.extract(r'([A-Za-z])(\\d+)', expand=False)[1].astype(float))\\\n",
    "    .groupby('Numeration')['Fare'].mean()\n",
    "\n",
    "display(_x)\n",
    "\n",
    "fig, ax = plt.subplots(1, 3, figsize=(15, 5))\n",
    "sns.histplot(data=raw_train, x='Fare', kde=True, ax=ax[0], color='tab:red')\n",
    "sns.scatterplot(x=_x, y=_y, ax=ax[1], color='tab:red')\n",
    "sns.barplot(x=_x, y=_y, ax=ax[2], color='tab:red')\n",
    "ax[1].set_xlabel('Cabin Numeration')\n",
    "ax[2].tick_params(\n",
    "    axis='x',          # changes apply to the x-axis\n",
    "    which='both',      # both major and minor ticks are affected\n",
    "    bottom=False,      # ticks along the bottom edge are off\n",
    "    top=False,         # ticks along the top edge are off\n",
    "    labelbottom=False) # labels along the bottom edge are off\n",
    "ax[2].set_xlabel('Cabin Numeration')\n",
    "plt.show()"
   ]
  },
  {
   "cell_type": "markdown",
   "metadata": {},
   "source": [
    "## Data Preparation"
   ]
  },
  {
   "cell_type": "code",
   "execution_count": 208,
   "metadata": {},
   "outputs": [],
   "source": [
    "def cabinSectorCreator(df):\n",
    "    \n",
    "    dft = df.copy()\n",
    "    dft['Sector'] = dft['Cabin'].str.extract(r'([A-Za-z])(\\d+)', expand=False)[0]\n",
    "    dft['Sector'].fillna('Z', inplace=True)\n",
    "    \n",
    "    def min_dist_cat(f):\n",
    "        c = dict_cat_class[f]\n",
    "        m = 100\n",
    "        l = 'Z'\n",
    "        for i in c:\n",
    "            if abs(i[0] - f) < m:\n",
    "                m = i[0] - f\n",
    "                l = i[1]\n",
    "        return l\n",
    "\n",
    "    mask = dft['Sector'] == 'Z'\n",
    "    dft.loc[mask, 'Sector'] = dft.loc[mask, 'Pclass'].apply(min_dist_cat)\n",
    "    dft['Sector'] = dft['Sector'].map({\n",
    "        'A': 1, 'B': 2, 'C': 3, 'D': 4, 'E': 5,\n",
    "        'F': 6, 'G': 7, 'T': 8, 'Z': 0\n",
    "    }).astype(int)\n",
    "\n",
    "    return dft"
   ]
  },
  {
   "cell_type": "code",
   "execution_count": 333,
   "metadata": {},
   "outputs": [],
   "source": [
    "def categoricToNumeric(df):\n",
    "    \n",
    "    df = df.copy()\n",
    "\n",
    "    # map categorical values to numeric on 'Embarked' column\n",
    "    emb = {x: i for i, x in enumerate(df['Embarked'].unique())}\n",
    "    df['Embarked'] = df['Embarked'].map(emb)\n",
    "\n",
    "    # map categorical values to numeric on 'Sex' column\n",
    "    sex = {df['Sex'].unique()[0]: 0, df['Sex'].unique()[1]: 1}\n",
    "    df['Sex'] = df['Sex'].map(sex)\n",
    "    \n",
    "    return df"
   ]
  },
  {
   "cell_type": "code",
   "execution_count": 262,
   "metadata": {},
   "outputs": [
    {
     "data": {
      "text/plain": [
       "Category  Pclass\n",
       "A         1         44.833333\n",
       "B         1         34.955556\n",
       "C         1         36.086667\n",
       "D         1         40.037037\n",
       "          2         32.250000\n",
       "E         1         40.083333\n",
       "          2         38.833333\n",
       "          3         21.666667\n",
       "F         2         16.687500\n",
       "          3         28.666667\n",
       "G         3         14.750000\n",
       "T         1         45.000000\n",
       "Name: mean, dtype: float64"
      ]
     },
     "metadata": {},
     "output_type": "display_data"
    }
   ],
   "source": [
    "def fillMissingAges(df):\n",
    "\n",
    "    dft = df.copy()\n",
    "    table = table_cat_pclass.loc[:,'Age']['mean']\n",
    "    dft = pd.merge(dft, table, on=['Category', 'Pclass'], how='left')\n",
    "    dft['Age'] = dft['Age'].fillna(dft['mean'])\n",
    "    dft = dft.drop('mean', axis=1, inplace=True)\n",
    "    print(dft['Age'].isna().sum())\n",
    "    # mask = dft['Age'].isna()\n",
    "    # dft.loc[mask, 'Age'] = dft.loc[mask, ['Sector', 'Pclass']].apply(min_dist_age)\n",
    "    # display(table_cat_pclass.loc[:,'Age']['mean'].to_dict())\n",
    "\n",
    "fillMissingAges(raw_train)"
   ]
  },
  {
   "cell_type": "code",
   "execution_count": 335,
   "metadata": {},
   "outputs": [],
   "source": [
    "def normalize (df):\n",
    "    for column in df:\n",
    "        if df[column].dtype == 'float64':\n",
    "            df[column] = (df[column] - df[column].min()) / (df[column].max() - df[column].min())\n",
    "    return df "
   ]
  },
  {
   "cell_type": "code",
   "execution_count": 336,
   "metadata": {},
   "outputs": [
    {
     "data": {
      "text/html": [
       "<div>\n",
       "<style scoped>\n",
       "    .dataframe tbody tr th:only-of-type {\n",
       "        vertical-align: middle;\n",
       "    }\n",
       "\n",
       "    .dataframe tbody tr th {\n",
       "        vertical-align: top;\n",
       "    }\n",
       "\n",
       "    .dataframe thead th {\n",
       "        text-align: right;\n",
       "    }\n",
       "</style>\n",
       "<table border=\"1\" class=\"dataframe\">\n",
       "  <thead>\n",
       "    <tr style=\"text-align: right;\">\n",
       "      <th></th>\n",
       "      <th>Pclass</th>\n",
       "      <th>Sex</th>\n",
       "      <th>Age</th>\n",
       "      <th>SibSp</th>\n",
       "      <th>Parch</th>\n",
       "      <th>Ticket</th>\n",
       "      <th>Fare</th>\n",
       "      <th>Embarked</th>\n",
       "      <th>Numeration</th>\n",
       "      <th>Sector</th>\n",
       "    </tr>\n",
       "  </thead>\n",
       "  <tbody>\n",
       "    <tr>\n",
       "      <th>count</th>\n",
       "      <td>891.000000</td>\n",
       "      <td>891.000000</td>\n",
       "      <td>891.000000</td>\n",
       "      <td>891.000000</td>\n",
       "      <td>891.000000</td>\n",
       "      <td>891.000000</td>\n",
       "      <td>891.000000</td>\n",
       "      <td>891.000000</td>\n",
       "      <td>891.000000</td>\n",
       "      <td>891.000000</td>\n",
       "    </tr>\n",
       "    <tr>\n",
       "      <th>mean</th>\n",
       "      <td>2.308642</td>\n",
       "      <td>0.352413</td>\n",
       "      <td>0.367921</td>\n",
       "      <td>0.523008</td>\n",
       "      <td>0.381594</td>\n",
       "      <td>0.073467</td>\n",
       "      <td>0.062858</td>\n",
       "      <td>0.368126</td>\n",
       "      <td>0.076577</td>\n",
       "      <td>0.756453</td>\n",
       "    </tr>\n",
       "    <tr>\n",
       "      <th>std</th>\n",
       "      <td>0.836071</td>\n",
       "      <td>0.477990</td>\n",
       "      <td>0.163383</td>\n",
       "      <td>1.102743</td>\n",
       "      <td>0.806057</td>\n",
       "      <td>0.161648</td>\n",
       "      <td>0.096995</td>\n",
       "      <td>0.647601</td>\n",
       "      <td>0.181855</td>\n",
       "      <td>1.570855</td>\n",
       "    </tr>\n",
       "    <tr>\n",
       "      <th>min</th>\n",
       "      <td>1.000000</td>\n",
       "      <td>0.000000</td>\n",
       "      <td>0.000000</td>\n",
       "      <td>0.000000</td>\n",
       "      <td>0.000000</td>\n",
       "      <td>0.000000</td>\n",
       "      <td>0.000000</td>\n",
       "      <td>0.000000</td>\n",
       "      <td>0.000000</td>\n",
       "      <td>0.000000</td>\n",
       "    </tr>\n",
       "    <tr>\n",
       "      <th>25%</th>\n",
       "      <td>2.000000</td>\n",
       "      <td>0.000000</td>\n",
       "      <td>0.271174</td>\n",
       "      <td>0.000000</td>\n",
       "      <td>0.000000</td>\n",
       "      <td>0.003802</td>\n",
       "      <td>0.015440</td>\n",
       "      <td>0.000000</td>\n",
       "      <td>0.000000</td>\n",
       "      <td>0.000000</td>\n",
       "    </tr>\n",
       "    <tr>\n",
       "      <th>50%</th>\n",
       "      <td>3.000000</td>\n",
       "      <td>0.000000</td>\n",
       "      <td>0.367921</td>\n",
       "      <td>0.000000</td>\n",
       "      <td>0.000000</td>\n",
       "      <td>0.035601</td>\n",
       "      <td>0.028213</td>\n",
       "      <td>0.000000</td>\n",
       "      <td>0.000000</td>\n",
       "      <td>0.000000</td>\n",
       "    </tr>\n",
       "    <tr>\n",
       "      <th>75%</th>\n",
       "      <td>3.000000</td>\n",
       "      <td>1.000000</td>\n",
       "      <td>0.434531</td>\n",
       "      <td>1.000000</td>\n",
       "      <td>0.000000</td>\n",
       "      <td>0.111907</td>\n",
       "      <td>0.060508</td>\n",
       "      <td>1.000000</td>\n",
       "      <td>0.000000</td>\n",
       "      <td>0.000000</td>\n",
       "    </tr>\n",
       "    <tr>\n",
       "      <th>max</th>\n",
       "      <td>3.000000</td>\n",
       "      <td>1.000000</td>\n",
       "      <td>1.000000</td>\n",
       "      <td>8.000000</td>\n",
       "      <td>6.000000</td>\n",
       "      <td>1.000000</td>\n",
       "      <td>1.000000</td>\n",
       "      <td>3.000000</td>\n",
       "      <td>1.000000</td>\n",
       "      <td>7.000000</td>\n",
       "    </tr>\n",
       "  </tbody>\n",
       "</table>\n",
       "</div>"
      ],
      "text/plain": [
       "           Pclass         Sex         Age       SibSp       Parch      Ticket  \\\n",
       "count  891.000000  891.000000  891.000000  891.000000  891.000000  891.000000   \n",
       "mean     2.308642    0.352413    0.367921    0.523008    0.381594    0.073467   \n",
       "std      0.836071    0.477990    0.163383    1.102743    0.806057    0.161648   \n",
       "min      1.000000    0.000000    0.000000    0.000000    0.000000    0.000000   \n",
       "25%      2.000000    0.000000    0.271174    0.000000    0.000000    0.003802   \n",
       "50%      3.000000    0.000000    0.367921    0.000000    0.000000    0.035601   \n",
       "75%      3.000000    1.000000    0.434531    1.000000    0.000000    0.111907   \n",
       "max      3.000000    1.000000    1.000000    8.000000    6.000000    1.000000   \n",
       "\n",
       "             Fare    Embarked  Numeration      Sector  \n",
       "count  891.000000  891.000000  891.000000  891.000000  \n",
       "mean     0.062858    0.368126    0.076577    0.756453  \n",
       "std      0.096995    0.647601    0.181855    1.570855  \n",
       "min      0.000000    0.000000    0.000000    0.000000  \n",
       "25%      0.015440    0.000000    0.000000    0.000000  \n",
       "50%      0.028213    0.000000    0.000000    0.000000  \n",
       "75%      0.060508    1.000000    0.000000    0.000000  \n",
       "max      1.000000    3.000000    1.000000    7.000000  "
      ]
     },
     "execution_count": 336,
     "metadata": {},
     "output_type": "execute_result"
    }
   ],
   "source": [
    "# def a DataPreparation that assemble all the data preparation processes done to raw_train until now\n",
    "\n",
    "def dataPreparation(df):\n",
    "    x = df.copy()\n",
    "    x = cabinSectorCreator(x)\n",
    "    x = categoricToNumeric(x)\n",
    "    x = fillMissingAges(x)\n",
    "    x = normalize(x)\n",
    "    x = x.drop(['Name', 'Ticket', 'Cabin', 'PassengerId'], axis=1)\n",
    "    return x\n",
    "\n",
    "X_norm = dataPreparation(X)\n",
    "X_norm.describe()"
   ]
  },
  {
   "cell_type": "markdown",
   "metadata": {},
   "source": [
    "## Modelling"
   ]
  },
  {
   "cell_type": "markdown",
   "metadata": {},
   "source": [
    "### Random Forest probably plateu, so lets Stack it"
   ]
  },
  {
   "cell_type": "code",
   "execution_count": 337,
   "metadata": {},
   "outputs": [],
   "source": [
    "rf = RandomForestClassifier(\n",
    "    n_estimators=50,\n",
    "    max_depth=6,\n",
    "    min_samples_split=5,\n",
    "    min_samples_leaf=2,\n",
    ")"
   ]
  },
  {
   "cell_type": "code",
   "execution_count": 338,
   "metadata": {},
   "outputs": [],
   "source": [
    "results = rf.fit(X_norm, raw_train['Survived'])"
   ]
  },
  {
   "cell_type": "code",
   "execution_count": 339,
   "metadata": {},
   "outputs": [],
   "source": [
    "# validate predictions of results against X_base and save the results to score variable\n",
    "def validate_model(model, df):\n",
    "    return model.score(df.drop('Survived', axis=1), df['Survived'])\n",
    "\n",
    "X_base = X_norm.copy()\n",
    "X_base['Survived'] = y\n",
    "score = validate_model(results, X_base)"
   ]
  },
  {
   "cell_type": "code",
   "execution_count": 340,
   "metadata": {},
   "outputs": [
    {
     "name": "stdout",
     "output_type": "stream",
     "text": [
      "0.8832772166105499\n"
     ]
    }
   ],
   "source": [
    "print(score)"
   ]
  },
  {
   "cell_type": "markdown",
   "metadata": {},
   "source": [
    "## Evaluation"
   ]
  },
  {
   "cell_type": "code",
   "execution_count": 341,
   "metadata": {},
   "outputs": [
    {
     "data": {
      "text/html": [
       "<div>\n",
       "<style scoped>\n",
       "    .dataframe tbody tr th:only-of-type {\n",
       "        vertical-align: middle;\n",
       "    }\n",
       "\n",
       "    .dataframe tbody tr th {\n",
       "        vertical-align: top;\n",
       "    }\n",
       "\n",
       "    .dataframe thead th {\n",
       "        text-align: right;\n",
       "    }\n",
       "</style>\n",
       "<table border=\"1\" class=\"dataframe\">\n",
       "  <thead>\n",
       "    <tr style=\"text-align: right;\">\n",
       "      <th></th>\n",
       "      <th>Pclass</th>\n",
       "      <th>Sex</th>\n",
       "      <th>Age</th>\n",
       "      <th>SibSp</th>\n",
       "      <th>Parch</th>\n",
       "      <th>Ticket</th>\n",
       "      <th>Fare</th>\n",
       "      <th>Embarked</th>\n",
       "      <th>Numeration</th>\n",
       "      <th>Sector</th>\n",
       "    </tr>\n",
       "  </thead>\n",
       "  <tbody>\n",
       "    <tr>\n",
       "      <th>0</th>\n",
       "      <td>3</td>\n",
       "      <td>0</td>\n",
       "      <td>0.452723</td>\n",
       "      <td>0</td>\n",
       "      <td>0</td>\n",
       "      <td>0.106700</td>\n",
       "      <td>0.015282</td>\n",
       "      <td>0</td>\n",
       "      <td>0.0</td>\n",
       "      <td>0</td>\n",
       "    </tr>\n",
       "    <tr>\n",
       "      <th>1</th>\n",
       "      <td>3</td>\n",
       "      <td>1</td>\n",
       "      <td>0.617566</td>\n",
       "      <td>1</td>\n",
       "      <td>0</td>\n",
       "      <td>0.117134</td>\n",
       "      <td>0.013663</td>\n",
       "      <td>1</td>\n",
       "      <td>0.0</td>\n",
       "      <td>0</td>\n",
       "    </tr>\n",
       "    <tr>\n",
       "      <th>2</th>\n",
       "      <td>2</td>\n",
       "      <td>0</td>\n",
       "      <td>0.815377</td>\n",
       "      <td>0</td>\n",
       "      <td>0</td>\n",
       "      <td>0.077475</td>\n",
       "      <td>0.018909</td>\n",
       "      <td>0</td>\n",
       "      <td>0.0</td>\n",
       "      <td>0</td>\n",
       "    </tr>\n",
       "    <tr>\n",
       "      <th>3</th>\n",
       "      <td>3</td>\n",
       "      <td>0</td>\n",
       "      <td>0.353818</td>\n",
       "      <td>0</td>\n",
       "      <td>0</td>\n",
       "      <td>0.101619</td>\n",
       "      <td>0.016908</td>\n",
       "      <td>1</td>\n",
       "      <td>0.0</td>\n",
       "      <td>0</td>\n",
       "    </tr>\n",
       "    <tr>\n",
       "      <th>4</th>\n",
       "      <td>3</td>\n",
       "      <td>1</td>\n",
       "      <td>0.287881</td>\n",
       "      <td>1</td>\n",
       "      <td>1</td>\n",
       "      <td>0.999995</td>\n",
       "      <td>0.023984</td>\n",
       "      <td>1</td>\n",
       "      <td>0.0</td>\n",
       "      <td>0</td>\n",
       "    </tr>\n",
       "  </tbody>\n",
       "</table>\n",
       "</div>"
      ],
      "text/plain": [
       "   Pclass  Sex       Age  SibSp  Parch    Ticket      Fare  Embarked  \\\n",
       "0       3    0  0.452723      0      0  0.106700  0.015282         0   \n",
       "1       3    1  0.617566      1      0  0.117134  0.013663         1   \n",
       "2       2    0  0.815377      0      0  0.077475  0.018909         0   \n",
       "3       3    0  0.353818      0      0  0.101619  0.016908         1   \n",
       "4       3    1  0.287881      1      1  0.999995  0.023984         1   \n",
       "\n",
       "   Numeration  Sector  \n",
       "0         0.0       0  \n",
       "1         0.0       0  \n",
       "2         0.0       0  \n",
       "3         0.0       0  \n",
       "4         0.0       0  "
      ]
     },
     "execution_count": 341,
     "metadata": {},
     "output_type": "execute_result"
    }
   ],
   "source": [
    "X_test = raw_test.iloc[:, 1:]\n",
    "X_test = dataPreparation(X_test)\n",
    "X_test.head()"
   ]
  },
  {
   "cell_type": "code",
   "execution_count": 342,
   "metadata": {},
   "outputs": [],
   "source": [
    "# predict the results of X_test and save it to predictions variable\n",
    "predictions = results.predict(X_test)\n",
    "\n",
    "# save predictions to a csv file\n",
    "df_predictions = pd.DataFrame({'PassengerId': raw_test['PassengerId'], 'Survived': predictions.astype(int)})\n",
    "df_predictions.to_csv('predictions.csv', index=False)"
   ]
  }
 ],
 "metadata": {
  "kernelspec": {
   "display_name": "demo",
   "language": "python",
   "name": "demo"
  },
  "language_info": {
   "codemirror_mode": {
    "name": "ipython",
    "version": 3
   },
   "file_extension": ".py",
   "mimetype": "text/x-python",
   "name": "python",
   "nbconvert_exporter": "python",
   "pygments_lexer": "ipython3",
   "version": "3.11.0"
  },
  "orig_nbformat": 4,
  "vscode": {
   "interpreter": {
    "hash": "63d4daf3cf9d67fdd9bea24a4f213ea39fec82a8b5142eea9bb40e2961d9abdc"
   }
  }
 },
 "nbformat": 4,
 "nbformat_minor": 2
}
